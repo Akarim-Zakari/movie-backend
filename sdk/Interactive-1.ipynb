{
 "cells": [
  {
   "cell_type": "markdown",
   "metadata": {},
   "source": [
    "Connected to .venv (Python 3.12.3)"
   ]
  },
  {
   "cell_type": "code",
   "execution_count": null,
   "id": "93f36f87-61e0-43bd-83cf-01803860921e",
   "metadata": {},
   "outputs": [
    {
     "name": "stderr",
     "output_type": "stream",
     "text": [
      "/mnt/c/Users/lenovo/OneDrive/Desktop/data/movie-backend/.venv/lib/python3.12/site-packages/pydantic/_internal/_config.py:373: UserWarning: Valid config keys have changed in V2:\n",
      "* 'orm_mode' has been renamed to 'from_attributes'\n",
      "  warnings.warn(message, UserWarning)\n"
     ]
    },
    {
     "name": "stdout",
     "output_type": "stream",
     "text": [
      "MOVIE_API_BASE_URL in MovieConfig init: https://movie-backend-7wya.onrender.com\n",
      "Health check:\n",
      "{'message': 'API MovieLens opérationnelle'}\n"
     ]
    }
   ],
   "source": [
    "from cinesdk import MovieClient, MovieConfig\n",
    "\n",
    "\n",
    "# Initialisation du client avec l'URL de l'API\n",
    "config = MovieConfig(movie_base_url=\"https://movie-backend-7wya.onrender.com\")\n",
    "client = MovieClient(config=config)\n",
    "\n",
    "# 1. Health check\n",
    "print(\"Health check:\")\n",
    "print(client.health_check())"
   ]
  },
  {
   "cell_type": "code",
   "execution_count": null,
   "id": "9bc24fc1-ed07-418b-bf92-2387a8aeebd2",
   "metadata": {},
   "outputs": [
    {
     "name": "stdout",
     "output_type": "stream",
     "text": [
      "\n",
      " Movie ID 1:\n",
      "movieId=1 title='Toy Story (1995)' genres='Adventure|Animation|Children|Comedy|Fantasy' ratings=[RatingBase(userId=1, movieId=1, rating=4.0, timestamp=964982703), RatingBase(userId=5, movieId=1, rating=4.0, timestamp=847434962), RatingBase(userId=7, movieId=1, rating=4.5, timestamp=1106635946), RatingBase(userId=15, movieId=1, rating=2.5, timestamp=1510577970), RatingBase(userId=17, movieId=1, rating=4.5, timestamp=1305696483), RatingBase(userId=18, movieId=1, rating=3.5, timestamp=1455209816), RatingBase(userId=19, movieId=1, rating=4.0, timestamp=965705637), RatingBase(userId=21, movieId=1, rating=3.5, timestamp=1407618878), RatingBase(userId=27, movieId=1, rating=3.0, timestamp=962685262), RatingBase(userId=31, movieId=1, rating=5.0, timestamp=850466616), RatingBase(userId=32, movieId=1, rating=3.0, timestamp=856736119), RatingBase(userId=33, movieId=1, rating=3.0, timestamp=939647444), RatingBase(userId=40, movieId=1, rating=5.0, timestamp=832058959), RatingBase(userId=43, movieId=1, rating=5.0, timestamp=848993983), RatingBase(userId=44, movieId=1, rating=3.0, timestamp=869251860), RatingBase(userId=45, movieId=1, rating=4.0, timestamp=951170182), RatingBase(userId=46, movieId=1, rating=5.0, timestamp=834787906), RatingBase(userId=50, movieId=1, rating=3.0, timestamp=1514238116), RatingBase(userId=54, movieId=1, rating=3.0, timestamp=830247330), RatingBase(userId=57, movieId=1, rating=5.0, timestamp=965796031), RatingBase(userId=63, movieId=1, rating=5.0, timestamp=1443199669), RatingBase(userId=64, movieId=1, rating=4.0, timestamp=1161520134), RatingBase(userId=66, movieId=1, rating=4.0, timestamp=1104643957), RatingBase(userId=68, movieId=1, rating=2.5, timestamp=1158531426), RatingBase(userId=71, movieId=1, rating=5.0, timestamp=864737933), RatingBase(userId=73, movieId=1, rating=4.5, timestamp=1464196374), RatingBase(userId=76, movieId=1, rating=0.5, timestamp=1439165548), RatingBase(userId=78, movieId=1, rating=4.0, timestamp=1252575124), RatingBase(userId=82, movieId=1, rating=2.5, timestamp=1084467729), RatingBase(userId=86, movieId=1, rating=4.0, timestamp=1344082549), RatingBase(userId=89, movieId=1, rating=3.0, timestamp=1520408314), RatingBase(userId=90, movieId=1, rating=3.0, timestamp=856353996), RatingBase(userId=91, movieId=1, rating=4.0, timestamp=1112713037), RatingBase(userId=93, movieId=1, rating=3.0, timestamp=942767337), RatingBase(userId=96, movieId=1, rating=5.0, timestamp=964772990), RatingBase(userId=98, movieId=1, rating=4.5, timestamp=1532457849), RatingBase(userId=103, movieId=1, rating=4.0, timestamp=1431954238), RatingBase(userId=107, movieId=1, rating=4.0, timestamp=829322340), RatingBase(userId=112, movieId=1, rating=3.0, timestamp=1442535639), RatingBase(userId=119, movieId=1, rating=3.5, timestamp=1435942468), RatingBase(userId=121, movieId=1, rating=4.0, timestamp=847656180), RatingBase(userId=124, movieId=1, rating=4.0, timestamp=1336584336), RatingBase(userId=130, movieId=1, rating=3.0, timestamp=832589610), RatingBase(userId=132, movieId=1, rating=2.0, timestamp=1157921785), RatingBase(userId=134, movieId=1, rating=3.0, timestamp=832841103), RatingBase(userId=135, movieId=1, rating=4.0, timestamp=1009691859), RatingBase(userId=137, movieId=1, rating=4.0, timestamp=1204859907), RatingBase(userId=140, movieId=1, rating=3.0, timestamp=942924980), RatingBase(userId=141, movieId=1, rating=4.0, timestamp=1513130643), RatingBase(userId=144, movieId=1, rating=3.5, timestamp=1137323419), RatingBase(userId=145, movieId=1, rating=5.0, timestamp=832105242), RatingBase(userId=151, movieId=1, rating=5.0, timestamp=855947195), RatingBase(userId=153, movieId=1, rating=2.0, timestamp=1525548642), RatingBase(userId=155, movieId=1, rating=3.0, timestamp=961861723), RatingBase(userId=156, movieId=1, rating=4.0, timestamp=1106854640), RatingBase(userId=159, movieId=1, rating=4.5, timestamp=1508640172), RatingBase(userId=160, movieId=1, rating=4.0, timestamp=971115026), RatingBase(userId=161, movieId=1, rating=4.0, timestamp=1176751765), RatingBase(userId=166, movieId=1, rating=5.0, timestamp=1189980529), RatingBase(userId=167, movieId=1, rating=3.5, timestamp=1154721923), RatingBase(userId=169, movieId=1, rating=4.5, timestamp=1059427918), RatingBase(userId=171, movieId=1, rating=5.0, timestamp=866904159), RatingBase(userId=177, movieId=1, rating=5.0, timestamp=1435533535), RatingBase(userId=178, movieId=1, rating=4.0, timestamp=1164354911), RatingBase(userId=179, movieId=1, rating=4.0, timestamp=852114051), RatingBase(userId=182, movieId=1, rating=4.0, timestamp=1063289621), RatingBase(userId=185, movieId=1, rating=4.0, timestamp=1044311830), RatingBase(userId=186, movieId=1, rating=4.0, timestamp=1031080831), RatingBase(userId=191, movieId=1, rating=4.0, timestamp=829759809), RatingBase(userId=193, movieId=1, rating=2.0, timestamp=1435856890), RatingBase(userId=200, movieId=1, rating=3.5, timestamp=1229886312), RatingBase(userId=201, movieId=1, rating=5.0, timestamp=939801780), RatingBase(userId=202, movieId=1, rating=4.0, timestamp=974923506), RatingBase(userId=206, movieId=1, rating=5.0, timestamp=850763267), RatingBase(userId=213, movieId=1, rating=3.5, timestamp=1316196157), RatingBase(userId=214, movieId=1, rating=3.0, timestamp=853937855), RatingBase(userId=216, movieId=1, rating=3.0, timestamp=975211713), RatingBase(userId=217, movieId=1, rating=4.0, timestamp=955942540), RatingBase(userId=219, movieId=1, rating=3.5, timestamp=1194681084), RatingBase(userId=220, movieId=1, rating=5.0, timestamp=1230055565), RatingBase(userId=223, movieId=1, rating=3.5, timestamp=1226209758), RatingBase(userId=226, movieId=1, rating=3.5, timestamp=1095662606), RatingBase(userId=229, movieId=1, rating=5.0, timestamp=838144316), RatingBase(userId=232, movieId=1, rating=3.5, timestamp=1076955621), RatingBase(userId=233, movieId=1, rating=3.0, timestamp=1524781249), RatingBase(userId=234, movieId=1, rating=5.0, timestamp=1004409347), RatingBase(userId=239, movieId=1, rating=4.0, timestamp=1221158265), RatingBase(userId=240, movieId=1, rating=5.0, timestamp=849122434), RatingBase(userId=247, movieId=1, rating=5.0, timestamp=1467644119), RatingBase(userId=249, movieId=1, rating=4.0, timestamp=1347317775), RatingBase(userId=252, movieId=1, rating=4.5, timestamp=1498284904), RatingBase(userId=254, movieId=1, rating=4.5, timestamp=1180446553), RatingBase(userId=263, movieId=1, rating=4.0, timestamp=940384199), RatingBase(userId=264, movieId=1, rating=4.0, timestamp=1136978964), RatingBase(userId=266, movieId=1, rating=2.0, timestamp=945669542), RatingBase(userId=269, movieId=1, rating=5.0, timestamp=850865423), RatingBase(userId=270, movieId=1, rating=5.0, timestamp=853918728), RatingBase(userId=273, movieId=1, rating=5.0, timestamp=835861234), RatingBase(userId=274, movieId=1, rating=4.0, timestamp=1171410158), RatingBase(userId=275, movieId=1, rating=5.0, timestamp=1049076484), RatingBase(userId=276, movieId=1, rating=4.0, timestamp=858350384), RatingBase(userId=277, movieId=1, rating=4.0, timestamp=861812794), RatingBase(userId=279, movieId=1, rating=3.0, timestamp=1506394495), RatingBase(userId=280, movieId=1, rating=4.5, timestamp=1348435273), RatingBase(userId=282, movieId=1, rating=4.5, timestamp=1378495714), RatingBase(userId=283, movieId=1, rating=3.0, timestamp=901227602), RatingBase(userId=288, movieId=1, rating=4.5, timestamp=1054568869), RatingBase(userId=290, movieId=1, rating=4.0, timestamp=975031464), RatingBase(userId=291, movieId=1, rating=4.0, timestamp=1453051567), RatingBase(userId=292, movieId=1, rating=4.0, timestamp=1219625000), RatingBase(userId=293, movieId=1, rating=3.0, timestamp=1044870886), RatingBase(userId=298, movieId=1, rating=2.0, timestamp=1447518257), RatingBase(userId=304, movieId=1, rating=5.0, timestamp=881428344), RatingBase(userId=307, movieId=1, rating=4.0, timestamp=1186160893), RatingBase(userId=314, movieId=1, rating=3.0, timestamp=834398280), RatingBase(userId=322, movieId=1, rating=3.5, timestamp=1217676206), RatingBase(userId=323, movieId=1, rating=3.5, timestamp=1422640363), RatingBase(userId=328, movieId=1, rating=5.0, timestamp=1494210665), RatingBase(userId=330, movieId=1, rating=4.0, timestamp=1285904910), RatingBase(userId=332, movieId=1, rating=4.0, timestamp=1352672340), RatingBase(userId=334, movieId=1, rating=3.5, timestamp=1225477466), RatingBase(userId=336, movieId=1, rating=4.0, timestamp=1122227329), RatingBase(userId=337, movieId=1, rating=4.0, timestamp=860255715), RatingBase(userId=339, movieId=1, rating=4.0, timestamp=1460183470), RatingBase(userId=341, movieId=1, rating=5.0, timestamp=1439750939), RatingBase(userId=347, movieId=1, rating=5.0, timestamp=847645986), RatingBase(userId=350, movieId=1, rating=4.0, timestamp=864940931), RatingBase(userId=353, movieId=1, rating=5.0, timestamp=831939685), RatingBase(userId=357, movieId=1, rating=5.0, timestamp=1348610184), RatingBase(userId=359, movieId=1, rating=4.0, timestamp=1198112023), RatingBase(userId=364, movieId=1, rating=5.0, timestamp=869443366), RatingBase(userId=367, movieId=1, rating=5.0, timestamp=997811550), RatingBase(userId=372, movieId=1, rating=3.0, timestamp=874416443), RatingBase(userId=373, movieId=1, rating=3.0, timestamp=846830172), RatingBase(userId=378, movieId=1, rating=4.5, timestamp=1445347576), RatingBase(userId=380, movieId=1, rating=5.0, timestamp=1493420345), RatingBase(userId=381, movieId=1, rating=3.5, timestamp=1164383653), RatingBase(userId=382, movieId=1, rating=4.5, timestamp=1515162628), RatingBase(userId=385, movieId=1, rating=4.0, timestamp=834691642), RatingBase(userId=389, movieId=1, rating=5.0, timestamp=857934174), RatingBase(userId=391, movieId=1, rating=3.0, timestamp=1032388077), RatingBase(userId=396, movieId=1, rating=5.0, timestamp=1111688626), RatingBase(userId=399, movieId=1, rating=4.0, timestamp=1167220428), RatingBase(userId=401, movieId=1, rating=3.5, timestamp=1510450550), RatingBase(userId=411, movieId=1, rating=5.0, timestamp=835532155), RatingBase(userId=412, movieId=1, rating=2.0, timestamp=939114353), RatingBase(userId=414, movieId=1, rating=4.0, timestamp=961438127), RatingBase(userId=420, movieId=1, rating=4.0, timestamp=1218207191), RatingBase(userId=422, movieId=1, rating=4.0, timestamp=986173307), RatingBase(userId=432, movieId=1, rating=2.5, timestamp=1316391457), RatingBase(userId=434, movieId=1, rating=4.0, timestamp=1270604402), RatingBase(userId=436, movieId=1, rating=4.0, timestamp=833529571), RatingBase(userId=438, movieId=1, rating=4.5, timestamp=1105650469), RatingBase(userId=443, movieId=1, rating=4.0, timestamp=1501722482), RatingBase(userId=448, movieId=1, rating=5.0, timestamp=1019126661), RatingBase(userId=451, movieId=1, rating=5.0, timestamp=854089165), RatingBase(userId=453, movieId=1, rating=5.0, timestamp=1005966797), RatingBase(userId=456, movieId=1, rating=5.0, timestamp=856883308), RatingBase(userId=460, movieId=1, rating=4.5, timestamp=1359177505), RatingBase(userId=462, movieId=1, rating=1.5, timestamp=1154037653), RatingBase(userId=468, movieId=1, rating=4.0, timestamp=831400444), RatingBase(userId=469, movieId=1, rating=4.0, timestamp=965336888), RatingBase(userId=470, movieId=1, rating=4.0, timestamp=849224825), RatingBase(userId=471, movieId=1, rating=5.0, timestamp=1496671820), RatingBase(userId=474, movieId=1, rating=4.0, timestamp=978575760), RatingBase(userId=476, movieId=1, rating=4.0, timestamp=835021447), RatingBase(userId=477, movieId=1, rating=4.0, timestamp=1200939636), RatingBase(userId=480, movieId=1, rating=3.0, timestamp=1179178004), RatingBase(userId=483, movieId=1, rating=4.0, timestamp=1178293130), RatingBase(userId=484, movieId=1, rating=4.5, timestamp=1342295949), RatingBase(userId=488, movieId=1, rating=4.5, timestamp=1112382025), RatingBase(userId=490, movieId=1, rating=3.5, timestamp=1328229305), RatingBase(userId=492, movieId=1, rating=4.0, timestamp=863975949), RatingBase(userId=500, movieId=1, rating=4.0, timestamp=1005527755), RatingBase(userId=504, movieId=1, rating=4.0, timestamp=1063644695), RatingBase(userId=509, movieId=1, rating=4.0, timestamp=1435992343), RatingBase(userId=514, movieId=1, rating=4.0, timestamp=1533872400), RatingBase(userId=517, movieId=1, rating=4.0, timestamp=1487954343), RatingBase(userId=522, movieId=1, rating=3.0, timestamp=1253344674), RatingBase(userId=524, movieId=1, rating=4.0, timestamp=851608466), RatingBase(userId=525, movieId=1, rating=4.0, timestamp=1476475973), RatingBase(userId=528, movieId=1, rating=2.5, timestamp=1391736605), RatingBase(userId=529, movieId=1, rating=3.0, timestamp=855583216), RatingBase(userId=533, movieId=1, rating=5.0, timestamp=1424753740), RatingBase(userId=534, movieId=1, rating=4.0, timestamp=1459787997), RatingBase(userId=541, movieId=1, rating=3.0, timestamp=835643027), RatingBase(userId=544, movieId=1, rating=3.0, timestamp=850688537), RatingBase(userId=550, movieId=1, rating=4.0, timestamp=1488728441), RatingBase(userId=555, movieId=1, rating=4.0, timestamp=978746159), RatingBase(userId=559, movieId=1, rating=5.0, timestamp=865095758), RatingBase(userId=560, movieId=1, rating=3.0, timestamp=1469653413), RatingBase(userId=561, movieId=1, rating=4.0, timestamp=1491094681), RatingBase(userId=562, movieId=1, rating=4.5, timestamp=1368893997), RatingBase(userId=567, movieId=1, rating=3.5, timestamp=1525286001), RatingBase(userId=570, movieId=1, rating=4.0, timestamp=1181476989), RatingBase(userId=572, movieId=1, rating=4.0, timestamp=945892484), RatingBase(userId=573, movieId=1, rating=5.0, timestamp=1186722182), RatingBase(userId=579, movieId=1, rating=4.0, timestamp=958881146), RatingBase(userId=580, movieId=1, rating=3.0, timestamp=1167792349), RatingBase(userId=584, movieId=1, rating=5.0, timestamp=834987643), RatingBase(userId=587, movieId=1, rating=5.0, timestamp=953137847), RatingBase(userId=590, movieId=1, rating=4.0, timestamp=1258420408), RatingBase(userId=596, movieId=1, rating=4.0, timestamp=1535709666), RatingBase(userId=597, movieId=1, rating=4.0, timestamp=941557863), RatingBase(userId=599, movieId=1, rating=3.0, timestamp=1498524204), RatingBase(userId=600, movieId=1, rating=2.5, timestamp=1237764347), RatingBase(userId=601, movieId=1, rating=4.0, timestamp=1521467801), RatingBase(userId=603, movieId=1, rating=4.0, timestamp=963178147), RatingBase(userId=604, movieId=1, rating=3.0, timestamp=832079851), RatingBase(userId=605, movieId=1, rating=4.0, timestamp=1277097561), RatingBase(userId=606, movieId=1, rating=2.5, timestamp=1349082950), RatingBase(userId=607, movieId=1, rating=4.0, timestamp=964744033), RatingBase(userId=608, movieId=1, rating=2.5, timestamp=1117408267), RatingBase(userId=609, movieId=1, rating=3.0, timestamp=847221025), RatingBase(userId=610, movieId=1, rating=5.0, timestamp=1479542900)] tags=[TagBase(userId=336, movieId=1, tag='pixar', timestamp=1139045764), TagBase(userId=474, movieId=1, tag='pixar', timestamp=1137206825), TagBase(userId=567, movieId=1, tag='fun', timestamp=1525286013)] link=LinkBase(imdbId='0114709', tmdbId=862)\n",
      "<class 'cinesdk.schemas.schemas.MovieDetailed'>\n"
     ]
    }
   ],
   "source": [
    "# 2. Récupérer un film par ID\n",
    "print(\"\\n Movie ID 1:\")\n",
    "movie = client.get_movie(1)\n",
    "print(movie)\n",
    "print(type(movie))"
   ]
  },
  {
   "cell_type": "code",
   "execution_count": null,
   "id": "98c2a67b-6bfa-426f-a0c3-6827c6d8499f",
   "metadata": {},
   "outputs": [
    {
     "name": "stdout",
     "output_type": "stream",
     "text": [
      "\n",
      " List of movies:\n",
      "<class 'list'>\n",
      "movieId=1 title='Toy Story (1995)' genres='Adventure|Animation|Children|Comedy|Fantasy'\n",
      "<class 'cinesdk.schemas.schemas.MovieSimple'>\n",
      "movieId=2 title='Jumanji (1995)' genres='Adventure|Children|Fantasy'\n",
      "<class 'cinesdk.schemas.schemas.MovieSimple'>\n",
      "movieId=3 title='Grumpier Old Men (1995)' genres='Comedy|Romance'\n",
      "<class 'cinesdk.schemas.schemas.MovieSimple'>\n",
      "movieId=4 title='Waiting to Exhale (1995)' genres='Comedy|Drama|Romance'\n",
      "<class 'cinesdk.schemas.schemas.MovieSimple'>\n",
      "movieId=5 title='Father of the Bride Part II (1995)' genres='Comedy'\n",
      "<class 'cinesdk.schemas.schemas.MovieSimple'>\n"
     ]
    }
   ],
   "source": [
    "# 3. Lister les films (premiers 5)\n",
    "print(\"\\n List of movies:\")\n",
    "movies = client.list_movies(limit=5)\n",
    "print(type(movies))\n",
    "for m in movies:\n",
    "    print(m)\n",
    "    print(type(m))"
   ]
  },
  {
   "cell_type": "code",
   "execution_count": null,
   "id": "40a43865-0730-4d1a-b3fb-f86d1cb57699",
   "metadata": {},
   "outputs": [
    {
     "name": "stdout",
     "output_type": "stream",
     "text": [
      "\n",
      " Rating for user 1 and movie 1:\n",
      "userId=1 movieId=1 rating=4.0 timestamp=964982703\n",
      "<class 'cinesdk.schemas.schemas.RatingSimple'>\n"
     ]
    }
   ],
   "source": [
    "# 4. Récupérer un rating spécifique\n",
    "print(\"\\n Rating for user 1 and movie 1:\")\n",
    "rating = client.get_rating(user_id=1, movie_id=1)\n",
    "print(rating)\n",
    "print(type(rating))"
   ]
  },
  {
   "cell_type": "code",
   "execution_count": null,
   "id": "907f025f-ed43-4ed4-8be6-d52b1cb43317",
   "metadata": {},
   "outputs": [
    {
     "name": "stdout",
     "output_type": "stream",
     "text": [
      "\n",
      " Link for movie ID 1:\n",
      "movieId=1 imdbId='0114709' tmdbId=862\n",
      "<class 'cinesdk.schemas.schemas.LinkSimple'>\n"
     ]
    }
   ],
   "source": [
    "# 5. Lien du film\n",
    "print(\"\\n Link for movie ID 1:\")\n",
    "link = client.get_link(movie_id=1)\n",
    "print(link)\n",
    "print(type(link))"
   ]
  },
  {
   "cell_type": "code",
   "execution_count": null,
   "id": "43df19fc-1a80-4171-afac-043bcca9e540",
   "metadata": {},
   "outputs": [
    {
     "name": "stdout",
     "output_type": "stream",
     "text": [
      "\n",
      " Analytics:\n",
      "movie_count=9742 rating_count=100836 tag_count=3683 link_count=9742\n",
      "<class 'cinesdk.schemas.schemas.AnalyticsResponse'>\n"
     ]
    }
   ],
   "source": [
    "# 6. Analytics\n",
    "print(\"\\n Analytics:\")\n",
    "analytics = client.get_analytics()\n",
    "print(analytics)\n",
    "print(type(analytics))"
   ]
  },
  {
   "cell_type": "code",
   "execution_count": null,
   "id": "4a6b9d2b-4091-4511-a7c4-ac314bc55999",
   "metadata": {},
   "outputs": [
    {
     "name": "stdout",
     "output_type": "stream",
     "text": [
      "[{'movieId': 1, 'title': 'Toy Story (1995)', 'genres': 'Adventure|Animation|Children|Comedy|Fantasy'}, {'movieId': 2, 'title': 'Jumanji (1995)', 'genres': 'Adventure|Children|Fantasy'}, {'movieId': 3, 'title': 'Grumpier Old Men (1995)', 'genres': 'Comedy|Romance'}, {'movieId': 4, 'title': 'Waiting to Exhale (1995)', 'genres': 'Comedy|Drama|Romance'}, {'movieId': 5, 'title': 'Father of the Bride Part II (1995)', 'genres': 'Comedy'}]\n",
      "<class 'list'>\n"
     ]
    }
   ],
   "source": [
    "    # Format dictionnaire\n",
    "new_movies_dicts = client.list_movies(limit=5, output_format=\"dict\")\n",
    "print(new_movies_dicts)\n",
    "print(type(new_movies_dicts))"
   ]
  },
  {
   "cell_type": "code",
   "execution_count": null,
   "id": "714d4c50-3408-4520-9cc1-dbd174ae64dc",
   "metadata": {},
   "outputs": [
    {
     "name": "stdout",
     "output_type": "stream",
     "text": [
      "[MovieSimple(movieId=1, title='Toy Story (1995)', genres='Adventure|Animation|Children|Comedy|Fantasy'), MovieSimple(movieId=2, title='Jumanji (1995)', genres='Adventure|Children|Fantasy'), MovieSimple(movieId=3, title='Grumpier Old Men (1995)', genres='Comedy|Romance'), MovieSimple(movieId=4, title='Waiting to Exhale (1995)', genres='Comedy|Drama|Romance'), MovieSimple(movieId=5, title='Father of the Bride Part II (1995)', genres='Comedy')]\n",
      "<class 'list'>\n"
     ]
    }
   ],
   "source": [
    "# 7. Tests avec option du choix de format de sortie\n",
    "    # Par défaut : objets Pydantic\n",
    "new_movies = client.list_movies(limit=5)\n",
    "print(new_movies)\n",
    "print(type(new_movies))"
   ]
  },
  {
   "cell_type": "code",
   "execution_count": null,
   "id": "5ff63bcc-5f52-4288-9086-7df0d685e6ec",
   "metadata": {},
   "outputs": [
    {
     "name": "stdout",
     "output_type": "stream",
     "text": [
      "[{'movieId': 1, 'title': 'Toy Story (1995)', 'genres': 'Adventure|Animation|Children|Comedy|Fantasy'}, {'movieId': 2, 'title': 'Jumanji (1995)', 'genres': 'Adventure|Children|Fantasy'}, {'movieId': 3, 'title': 'Grumpier Old Men (1995)', 'genres': 'Comedy|Romance'}, {'movieId': 4, 'title': 'Waiting to Exhale (1995)', 'genres': 'Comedy|Drama|Romance'}, {'movieId': 5, 'title': 'Father of the Bride Part II (1995)', 'genres': 'Comedy'}]\n",
      "<class 'list'>\n"
     ]
    }
   ],
   "source": [
    "    # Format dictionnaire\n",
    "new_movies_dicts = client.list_movies(limit=5, output_format=\"dict\")\n",
    "print(new_movies_dicts)\n",
    "print(type(new_movies_dicts))"
   ]
  },
  {
   "cell_type": "code",
   "execution_count": null,
   "id": "610d2e8a-a1c8-4b37-a44c-110b703dd125",
   "metadata": {},
   "outputs": [
    {
     "name": "stdout",
     "output_type": "stream",
     "text": [
      "   movieId                               title  \\\n",
      "0        1                    Toy Story (1995)   \n",
      "1        2                      Jumanji (1995)   \n",
      "2        3             Grumpier Old Men (1995)   \n",
      "3        4            Waiting to Exhale (1995)   \n",
      "4        5  Father of the Bride Part II (1995)   \n",
      "\n",
      "                                        genres  \n",
      "0  Adventure|Animation|Children|Comedy|Fantasy  \n",
      "1                   Adventure|Children|Fantasy  \n",
      "2                               Comedy|Romance  \n",
      "3                         Comedy|Drama|Romance  \n",
      "4                                       Comedy  \n",
      "<class 'pandas.core.frame.DataFrame'>\n"
     ]
    }
   ],
   "source": [
    "    # Format DataFrame\n",
    "new_movies_df = client.list_movies(limit=5, output_format=\"pandas\")\n",
    "print(new_movies_df)\n",
    "print(type(new_movies_df))"
   ]
  }
 ],
 "metadata": {
  "kernelspec": {
   "display_name": ".venv",
   "language": "python",
   "name": "python3"
  },
  "language_info": {
   "name": "python",
   "version": "3.12.3"
  }
 },
 "nbformat": 4,
 "nbformat_minor": 5
}
